{
 "cells": [
  {
   "cell_type": "code",
   "execution_count": 1,
   "metadata": {
    "collapsed": false
   },
   "outputs": [
    {
     "ename": "ImportError",
     "evalue": "No module named 'cairo'",
     "output_type": "error",
     "traceback": [
      "\u001b[0;31m---------------------------------------------------------------------------\u001b[0m",
      "\u001b[0;31mImportError\u001b[0m                               Traceback (most recent call last)",
      "\u001b[0;32m<ipython-input-1-3487cf3d5562>\u001b[0m in \u001b[0;36m<module>\u001b[0;34m()\u001b[0m\n\u001b[0;32m----> 1\u001b[0;31m \u001b[0;32mimport\u001b[0m \u001b[0mcairo\u001b[0m\u001b[0;34m\u001b[0m\u001b[0m\n\u001b[0m\u001b[1;32m      2\u001b[0m \u001b[0;32mimport\u001b[0m \u001b[0mpango\u001b[0m\u001b[0;34m\u001b[0m\u001b[0m\n\u001b[1;32m      3\u001b[0m \u001b[0;32mimport\u001b[0m \u001b[0mpangocairo\u001b[0m\u001b[0;34m\u001b[0m\u001b[0m\n\u001b[1;32m      4\u001b[0m \u001b[0;32mimport\u001b[0m \u001b[0msys\u001b[0m\u001b[0;34m\u001b[0m\u001b[0m\n\u001b[1;32m      5\u001b[0m \u001b[0;34m\u001b[0m\u001b[0m\n",
      "\u001b[0;31mImportError\u001b[0m: No module named 'cairo'"
     ]
    }
   ],
   "source": [
    "import cairo\n",
    "import pango\n",
    "import pangocairo\n",
    "import sys\n",
    "\n",
    "surf = cairo.ImageSurface(cairo.FORMAT_ARGB32, 320, 120)\n",
    "context = cairo.Context(surf)\n",
    "\n",
    "#draw a background rectangle:\n",
    "context.rectangle(0,0,320,120)\n",
    "context.set_source_rgb(1, 1, 1)\n",
    "context.fill()\n",
    "\n",
    "#get font families:\n",
    "\n",
    "font_map = pangocairo.cairo_font_map_get_default()\n",
    "families = font_map.list_families()\n",
    "\n",
    "# to see family names:\n",
    "print([f.get_name() for f in font_map.list_families()])\n",
    "\n",
    "#context.set_antialias(cairo.ANTIALIAS_SUBPIXEL)\n",
    "\n",
    "# Positions drawing origin so that the text desired top-let corner is at 0,0\n",
    "context.translate(50,25)\n",
    "\n",
    "pangocairo_context = pangocairo.CairoContext(context)\n",
    "pangocairo_context.set_antialias(cairo.ANTIALIAS_SUBPIXEL)\n",
    "\n",
    "layout = pangocairo_context.create_layout()\n",
    "fontname = sys.argv[1] if len(sys.argv) >= 2 else \"Sans\"\n",
    "font = pango.FontDescription(fontname + \" 25\")\n",
    "layout.set_font_description(font)\n",
    "\n",
    "layout.set_text(u\"Travis L.\")\n",
    "context.set_source_rgb(0, 0, 0)\n",
    "pangocairo_context.update_layout(layout)\n",
    "pangocairo_context.show_layout(layout)\n",
    "\n",
    "with open(\"cairo_text.png\", \"wb\") as image_file:\n",
    "    surf.write_to_png(image_file)"
   ]
  },
  {
   "cell_type": "code",
   "execution_count": null,
   "metadata": {
    "collapsed": true
   },
   "outputs": [],
   "source": []
  }
 ],
 "metadata": {
  "anaconda-cloud": {},
  "kernelspec": {
   "display_name": "Python [default]",
   "language": "python",
   "name": "python3"
  },
  "language_info": {
   "codemirror_mode": {
    "name": "ipython",
    "version": 3
   },
   "file_extension": ".py",
   "mimetype": "text/x-python",
   "name": "python",
   "nbconvert_exporter": "python",
   "pygments_lexer": "ipython3",
   "version": "3.5.2"
  }
 },
 "nbformat": 4,
 "nbformat_minor": 1
}
