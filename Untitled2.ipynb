{
 "cells": [
  {
   "cell_type": "code",
   "execution_count": 21,
   "metadata": {
    "collapsed": false
   },
   "outputs": [],
   "source": [
    "from iching import *\n",
    "import cairocffi as cairo\n",
    "\n",
    "def draw_cairo_txt(s, size, title, font, font_color, font_size):\n",
    "    \n",
    "    # setup a place to draw\n",
    "    surface = cairo.ImageSurface(cairo.FORMAT_ARGB32, size[0], size[1])\n",
    "    ctx = cairo.Context (surface)\n",
    "\n",
    "    # paint background\n",
    "    ctx.set_source_rgb(1, 1, 1)\n",
    "    ctx.rectangle(0, 0, size[0], size[1])\n",
    "    ctx.fill()\n",
    "\n",
    "    # draw text\n",
    "    ctx.select_font_face(font)\n",
    "    ctx.set_font_size(font_size)\n",
    "    ctx.set_source_rgb(0,0,0)\n",
    "    \n",
    "    lines = get_lines(s)\n",
    "    for line, i in zip(lines, np.arange(len(lines))):\n",
    "        xbearing, ybearing, width, height, xadvance, yadvance = ctx.text_extents(line)\n",
    "        print(line, width, height)\n",
    "        ctx.move_to(size[0]/2 - width/2, size[1]/2 - font_size/2 + i * font_size)\n",
    "        ctx.show_text(line)\n",
    "\n",
    "    # finish up\n",
    "    ctx.stroke() # commit to surface\n",
    "    surface.write_to_png('hello_world.png') # write to file"
   ]
  },
  {
   "cell_type": "code",
   "execution_count": 22,
   "metadata": {
    "collapsed": false
   },
   "outputs": [
    {
     "name": "stdout",
     "output_type": "stream",
     "text": [
      "Hey what 102.17578125 19.8984375\n",
      "is up? 74.33203125 19.921875\n",
      "No clue! 98.19140625 15.5625\n"
     ]
    }
   ],
   "source": [
    "tt = \"Hey what\\nis up?\\nNo clue!\"\n",
    "draw_txt(tt, (1250, 1250), 'title', 'Anonymice Powerline Bold', '#313131', 24)"
   ]
  },
  {
   "cell_type": "code",
   "execution_count": null,
   "metadata": {
    "collapsed": true
   },
   "outputs": [],
   "source": []
  }
 ],
 "metadata": {
  "kernelspec": {
   "display_name": "Python [conda root]",
   "language": "python",
   "name": "conda-root-py"
  },
  "language_info": {
   "codemirror_mode": {
    "name": "ipython",
    "version": 3
   },
   "file_extension": ".py",
   "mimetype": "text/x-python",
   "name": "python",
   "nbconvert_exporter": "python",
   "pygments_lexer": "ipython3",
   "version": "3.5.2"
  }
 },
 "nbformat": 4,
 "nbformat_minor": 1
}
