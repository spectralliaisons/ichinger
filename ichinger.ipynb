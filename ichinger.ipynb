{
 "cells": [
  {
   "cell_type": "markdown",
   "metadata": {},
   "source": [
    "<h1>ichinger</h1>"
   ]
  },
  {
   "cell_type": "code",
   "execution_count": 1,
   "metadata": {
    "collapsed": true
   },
   "outputs": [],
   "source": [
    "from iching import *\n",
    "import datetime"
   ]
  },
  {
   "cell_type": "code",
   "execution_count": 2,
   "metadata": {
    "collapsed": false
   },
   "outputs": [],
   "source": [
    "config = {\n",
    "    \"size\" : (1250, 1700),\n",
    "    \"font_size\" : 24,\n",
    "    \"font\" : \"Anonymice Powerline\",\n",
    "    \"font_color\" : \"#000000\",\n",
    "    \"hexagram_vert_gap\" : 2,\n",
    "    \"n_unjarble_reps\" : 800,\n",
    "    \"n_cols\" : 64,\n",
    "    \"hexagram\" : [False, False, False, False, False, True] # 24 : return of light\n",
    "}"
   ]
  },
  {
   "cell_type": "markdown",
   "metadata": {},
   "source": [
    "<h2>English</h2>"
   ]
  },
  {
   "cell_type": "code",
   "execution_count": 3,
   "metadata": {
    "collapsed": true
   },
   "outputs": [],
   "source": [
    "config[\"hexagram_line_break\"] = 10\n",
    "\n",
    "TITLE = \"cavebirds\"\n",
    "\n",
    "POEM = \"\\n\".join([\n",
    "        \"there are scriptures only our fingers' tips can read\",\n",
    "        \"and i read these in the soft give of your flesh.\",\n",
    "        \"i laid a hand upon the stone of your cave.\",\n",
    "        \"i howled at your cave as if\",\n",
    "        \"birds would pour forth\",\n",
    "        \"in confusion.\",\n",
    "        \"as if your birds would pour forth.\",\n",
    "        \"i entered your temple with\",\n",
    "        \"pieces of myself struck together for illumination.\",\n",
    "        \"all of my most delicate birds,\"\n",
    "        \"i guided them into the cave of your flesh.\",\n",
    "#         \"sometimes one would escape.\",\n",
    "#         \"i would imitate the sound:\",\n",
    "#         \"have you seen this bird?\",\n",
    "        \"it is a memory of starlight.\",\n",
    "        \"it is the wave's slow descent to uniformity.\",\n",
    "#         \"but you had not seen it.\"\n",
    "        ])\n",
    "\n",
    "FINAL = \"\\n\".join([\n",
    "        \"there are scriptures only our fingers' tips can read\",\n",
    "        \"and i read these in the soft give of your flesh.\",\n",
    "        \"i laid a hand upon the stone of your cave.\",\n",
    "        \"i howled at your cave as if\",\n",
    "        \"birds would pour forth\",\n",
    "        \"in confusion.\",\n",
    "        \"as if your birds would pour forth.\",\n",
    "        \"i entered your temple with\",\n",
    "        \"pieces of myself struck together for illumination.\",\n",
    "        \"all of my most delicate birds,\"\n",
    "        \"i guided them into the cave of your flesh.\",\n",
    "        \"sometimes one would escape.\",\n",
    "        \"i would imitate the sound:\",\n",
    "        \"have you seen this bird?\",\n",
    "        \"it is a memory of starlight.\",\n",
    "        \"it is the wave's slow descent to uniformity.\",\n",
    "        \"but you had not seen it.\"\n",
    "        ])"
   ]
  },
  {
   "cell_type": "markdown",
   "metadata": {},
   "source": [
    "<h2>Spanish</h2>"
   ]
  },
  {
   "cell_type": "code",
   "execution_count": 3,
   "metadata": {
    "collapsed": true
   },
   "outputs": [],
   "source": [
    "config[\"hexagram_line_break\"] = 10\n",
    "\n",
    "TITLE = \"escrituras / cavebirds\"\n",
    "\n",
    "POEM = \"\\n\".join([\n",
    "#         \"there are scriptures only our fingers' tips can read\",\n",
    "        \"and i read these in the soft give of your flesh\",\n",
    "        \"i laid a hand upon the stone of your cave\",\n",
    "#         \"your scent\",\n",
    "#         \"you were my darkest pool\",\n",
    "#         \"i howled at your cave as if\",\n",
    "#         \"birds would pour forth\",\n",
    "#         \"in confusion\",\n",
    "#         \"as if your birds would pour forth\",\n",
    "        \"i entered your temple with\",\n",
    "        \"pieces of myself struck together for illumination\",\n",
    "        \"all of my most delicate birds,\"\n",
    "        \"i guided them into the cave of your flesh\",\n",
    "#         \"my softest birds\",\n",
    "#         \"gentlest birds\",\n",
    "#         \"my most precious birds\",\n",
    "#         \"sometimes one would escape\",\n",
    "#         \"i would imitate the sound\",\n",
    "#         \"have you seen this bird?\",\n",
    "#         \"it is a memory of starlight\",\n",
    "#         \"it is the wave's slow descent to uniformity\",\n",
    "#         \"but you had not seen it.\",\n",
    "        \n",
    "        \"hay escrituras que sólo nuestros dedos pueden leer\",\n",
    "        \"y estos leo en la suavidad de tu carne.\",\n",
    "        \"yo puse una mano sobre la piedra de tu cueva.\",\n",
    "        \"aullé en tu cueva\",\n",
    "        \"como si los pájaros huyeran en su confusión,\",\n",
    "        \"como si sus pájaros huyeran.\",\n",
    "        \"entré en tu templo con\",\n",
    "        \"pedazos de mí golpeados juntos para la illuminación.\",\n",
    "        \"todas mis pájaros más delicadas\",\n",
    "        \"los guié a la cueva de tu carne.\",\n",
    "        \"a veces escaparía uno\",\n",
    "        \"<<¿has visto esto pájaro?>>\",\n",
    "        \"es la luz de mi estrella más frágil.\",\n",
    "        \"es el descenso lento de la ola a la uniformidad.\",\n",
    "        \"pero no lo habías visto.\",\n",
    "        \n",
    "        \"hay escrituras que sólo nuestros dedos pueden leer\",\n",
    "        \"y estos leo en la suavidad de tu carne.\",\n",
    "        \"yo puse una mano sobre la piedra de tu cueva.\",\n",
    "        \"aullé en tu cueva\",\n",
    "        \"como si los pájaros huyeran en su confusión,\",\n",
    "        \"como si sus pájaros huyeran.\",\n",
    "        \"entré en tu templo con\",\n",
    "        \"pedazos de mí golpeados juntos para la illuminación.\",\n",
    "        \"todas mis pájaros más delicadas\",\n",
    "        \"los guié a la cueva de tu carne.\",\n",
    "        \"a veces escaparía uno\",\n",
    "        \"<<¿has visto esto pájaro?>>\",\n",
    "        \"es la luz de mi estrella más frágil.\",\n",
    "        \"es el descenso lento de la ola a la uniformidad.\",\n",
    "        \"pero no lo habías visto.\"\n",
    "    ])\n",
    "\n",
    "FINAL = \"\\n\".join([\n",
    "        \" hay escrituras que sólo nuestros dedos pueden leer\",\n",
    "        \"y estos leo en la suavidad de tu carne.\",\n",
    "        \"yo puse una mano sobre la piedra de tu cueva.\",\n",
    "        \"aullé en tu cueva\",\n",
    "        \"como si los pájaros huyeran en su confusión.\",\n",
    "        \"como si sus pájaros huyeran.\",\n",
    "        \"entré en tu templo con\",\n",
    "        \"pedazos de mí golpeados juntos para la illuminación.\",\n",
    "        \"todas mis pájaros más delicadas\",\n",
    "        \"los guié a la cueva de tu carne.\",\n",
    "        \"a veces escaparía uno\",\n",
    "        \"<<¿has visto esto pájaro?>>\",\n",
    "        \"es la luz de mi estrella más frágil.\",\n",
    "        \"es el descenso lento de la ola a la uniformidad.\",\n",
    "        \"<<¿has visto esto pájaro?>>\",\n",
    "        \"pero no lo habías visto.\"\n",
    "    ])"
   ]
  },
  {
   "cell_type": "markdown",
   "metadata": {},
   "source": [
    "<h2>Generate poem</h2>"
   ]
  },
  {
   "cell_type": "code",
   "execution_count": 4,
   "metadata": {
    "collapsed": false
   },
   "outputs": [
    {
     "name": "stdout",
     "output_type": "stream",
     "text": [
      "                                                                \n",
      "                              .           y    d                \n",
      "                             e                         r        \n",
      "           l    u    th            u   i    w            b      \n",
      "                         u   e                         t        \n",
      "  an                        f      st  e       a  y             \n",
      "             d a          e as   e of y  r        i             \n",
      "       r    o     e              the    r t   l     th          \n",
      "     n   e         e m st   l    e bir s,    i           t      \n",
      "   e    y u    es . fhe    to t  kc aveav      o  f    s        \n",
      "                                                                \n",
      "     e t  o    av  as bi  s   g  ded  t is a  em i t  th        \n",
      "       o r  u   e  cate btemple  ithir s our,i     r  ou        \n",
      "           or   fscr ptu  s onl  our fingerst     in            \n",
      "  '  d  h   read theselaida mem  y oconfusion fente ed    r  e p\n",
      "     h n   y most  elic te bird  i guided them in is   m m  y   \n",
      "   h  c ve of yo r flesh.uidedr  fhebirds would  i   c  f o  m  \n",
      "         cate  i ds,i guided th  'into the cavof m  elf         \n",
      "     e e o  your flesh.sion.rea  pread thesewould pou  h s  i   \n",
      "     f   s lf struckguided them  nto the cave of tomyse f st    \n",
      "                                                                \n",
      "        bir sand entered your t  pleini read these in the  o  t \n",
      "     r a  these in the softhe s  ttips caconfusion.nlai    d  h \n",
      "    t yourerse in the soft giit  s a memorofy ofve ofid a h     \n",
      "    t e  tonthere are scripture  onlyedetguided them into   eog \n",
      "      or illumination.lyouricar  d thi howled at your cavees   n\n",
      "  h  so t givete birds,i guided  cmy most dillumination.elica   \n",
      "    s,  guided themmemoryei rea  these in the softad these i    \n",
      "   t e e in the birds would pou  oft give ofn the soft g ve   r \n",
      "      mory ofead thyour cave as  e of my most delicate bi ds,i  \n",
      "                                                                \n",
      "urif if youyour cave asr birdmy  ost and i reathe cave of yourdr\n",
      "thhoi entered your templewled a  yonly our fingers' tipsour cave\n",
      "hasese in the soft give ofdelic  e it is the wave's slow descent\n",
      "birds,i guided them into the ca  ?of yishowled a memorymyself of\n",
      "oursyour birds would pourespour  menterethem into the cave ofdor\n",
      "forthcavmy most delicis a memor  te birds,i guided them into the\n",
      ",cave of youre aentereds ibirds  ngers' tips canfymemory ofbirds\n",
      "pourlaid a hand uponare scriptu  s only our onlwave's slowy ourw\n",
      "ould pour forth fingers' tips c  finit ia hand upon the at youru\n",
      "                                                                \n",
      "mwouldupon the ststone of youro  ,ois a memory off your ca hand \n",
      "upon the stone of yourave.eadth  e inas if your birdswould poubi\n",
      "rds wouldrisi readhowled at you  these in the soft give a memory\n",
      "deithe cave of your flesh.s thi  your birdse wave's slow descent\n",
      "scentscriptures only our finger  his the wave'stips canslow thed\n",
      "escent tothere awcave asould po  nto the caverre scriptures only\n",
      ".our fingers'menterewould poura  rthd your templeyself strucwoul\n",
      "d pourk togedelicate birds,i gu  ed them into the cave of yourth\n",
      "ei read thesemyself struck toge  er in this a memoryer forlaid a\n",
      "                                                                \n",
      " heselaidrthscripthere are scriptures only our fingers' tips can\n",
      " readand i read these in the soft give of your flesh.i laid a ha\n",
      " d upon the stone of your cave.i howled at your cave as ifbirds \n",
      " ould pour forthin confusion.as if your birds would pour forth.i\n",
      " enteredbyour temple withpieces of myself struck together for il\n",
      " umination.all of my most delicate birds,i guided them into the \n",
      " ave of your flesh.sometimes one would escape.i would imitate th\n",
      "  sound:have you seen this bird?it is a memory of starlight.it i\n",
      "  the wave's slow descent to uniformity.but you had not seen it.\n",
      "\n"
     ]
    }
   ],
   "source": [
    "scattered_poem = consult(POEM, FINAL, TITLE, config, True)"
   ]
  },
  {
   "cell_type": "markdown",
   "metadata": {},
   "source": [
    "<h2>Re-render some good outputs if you want to</h2>"
   ]
  },
  {
   "cell_type": "code",
   "execution_count": null,
   "metadata": {
    "collapsed": false,
    "scrolled": true
   },
   "outputs": [],
   "source": [
    "# a good one en español\n",
    "# scattered_poem = \"                                                                \\ntu cueva.en tde la olare script  res only our fingers' tipsau te\\nmploestos leo en la pájaro?>>su  idad de tu coes el descenso len\\nto de la ola  a only our finger  lanmi esten tu escaparíaveces e\\nscaparíatemplorelhay escrituras  ue sólo nuestroslquegolpeados j\\nuntos para sóloa más frámi estr  la másgil.yo puse uncoi relaad<\\nthese in the a la cueva de tu c  ne.soft give ofmo si los pájvec\\nes escaparíaaros huyeran en sua  amí golpeados juntos para la de\\nbla ola lailluminacipedazos deq  ugolpeados juntos paraón.notemp\\nlo sobreeleo en la suavidad dep  arosl descendedos pueden leerso\\n                                                                \\nndos de la ola la piedra de tuv  toen la suavidad de tu carne. m\\nis pájaros más delicadasestoque  tentréo<<¿has visto esto pájaro\\n?>> sólo nuestrin the soft give  f yourospueestrella más frágil.\\ndpedazos de mí golpeaescrituras  ue sólo nuestrosdos junestos le\\no en la suavidad de tutos parae  i sus pájarosnuestmi estrelljun\\ntos para la illuminación.a másr  scriptures only our fingers' ti\\nps can read desidos puedtuveces  scaparía encuevaenel descenstod\\nas mis pájaros máso yo puse una  ano sobre la piedralentodescens\\no lvecepedazosy estos leo en la  uavidad de mí golpeados juloest\\n                                                                \\nola a lade mis pájaros más del   adasmvecesi estrella más frágil\\n.puse una mano sobre la piedraa  missi los pájayo pusi read thes\\ne in the soft give of your fles  huna mano sobre la piedra de tu\\na veces escaparíaros huyeran en  ájaros másin thela luz de mi es\\ntrella más frágil. soft give of  oursipuestrellase la lulos guié\\nz de mi estrella máensunanda ma  isobre lathe visto estosoft giv\\necomo si susveces eelscaparlaía  s pájaestos leo ethe softsi los\\nyentré enpájaros huyerand i rea  these in the soft give ofan en \\nsula cuevan laros huyeran en su  mano sobre la piedra de tu cuev\\n                                                                \\navidad de tuomo si veces escapa  alosguiécomo si sus pájarosvece\\ns escaparíand mási readadehuyer  . mi pájaros huyeranestrella má\\ns frádescenso lenmis pájaros má  delicadasto de lagi<<¿hasl.i cu\\nevayourread these in the softes  épájarosscaparíagthe soft giveu\\nié a la cueva de tuonly our fin  rs' tips canpájaros carne.los p\\nájaros huyerami estrellaen tu t  plo conn en suel descenso lento\\nescrituras que sólopájaro?>> nu  troel descenso lento de la olas\\nías dedos de la guié a ola lo  is illuminación.aestopájavecesr\\nos huyeranla ola a laga lael de  evegolpeados juntoss el descens\\n                                                                \\nvleesaullé en tu lestos leo enj  ssuavidad de tua luz de minto d\\ne la onla luz dedaestos leo des  nso lenpájaros más delicadastoe\\nn lvisto estoa suluz de mi estr  la másavisto estovidaden tu deí\\nentrétu carnescriluz de mithuye  n evescritui read these in ther\\nas que sólo nuestros dedos pued  bcomoleederisten tu temploon su\\nurase.juntveces escaparíaos par  latodas mis pájaros la cupájaro\\ns huyepero no lo habíasran.evap  sto estodey estos leo en lescap\\naríaa suavidad de tumástu carne  os pájla ondaaros huyerdescenso\\nqlento de la onda a la uniformi  d.anare scriptla luz de mi estr\\n                                                                \\n    read desoingers<<¿has' tips hay escrituras que sólo nuestros\\n dedos pueden leery estos leo en la suavidad de tu carne.yo puse\\n una mano sobre la piedra de tu cueva.aullé en tu cuevacomo si l\\nos pájaros huyeran en su confusión.como si sus pájaros huyeran.e\\nntré en tu templo conpedazos de mí golpeados juntos para la illu\\nminación.todas mis pájaros más delicadaslos guié a la cueva de t\\nu carne.a veces escaparía uno<<¿has visto esto pájaro?>>es la lu\\nz de mi estrella más frágil.es el descenso lento de la ola  a la\\n uniformidad.<<¿has visto esto pájaro?>>pero no lo habías visto.\\n\"\n",
    "\n",
    "# good one en ingles\n",
    "# scattered_poem = \"                                                                \\nsguided them into thehem into t  vcavscriptures only our fingers\\n' tips can reade of your flesh.  wouldwouldmost delicate youryou\\nr temple birds would poin the s  tmy most deliif yinourcate bird\\npieces ofs,pouriurbirdwould pou  oulds,imost delicate birds,i gu\\nided them into the cave of your  lesh. guided thedelicate birds,\\ni guided thit is the wave'semm:  e softyour birdswould wouldinto\\npin the ofsoft give ofthe cavek  a hand upon the stone ofamy mos\\nt delicate birds,i guided themh  to the cave ofnd iscripturesof,\\nyour cave. atonly our fingers'p  ad thhowled at yopour forth.urt\\n                                                                \\nad these iwstthese in the softc  ve of yourone of yourouldn the.\\nsmyself struck together for ill  ination.oft give oif your flesh\\n.e astemandple withsion.howledr  hyour cave as ifmosof myself st\\nruck together fort delicate bir  ,birds,i guided them into the c\\nave of youriointo the cave ofnl  our fingers' tipa memory ofshow\\nled at your can read guided the  f your biof mysmy mostelf struc\\nk together for illumination.rds  on the woupieces of myself stru\\nck togetherld pour fbirds,i gui  d theentered your templem intog\\nthe cave of your flesh.orth.bir  ?the soft give of yourds,i guid\\n                                                                \\nngers' tips can birds,imemory o  the soft giveguided them intoso\\nft give of the cave of yoursoft  onfusion.give of yourtof my mos\\nt delicate birds,i guided them'  to the a hand upon the stonecav\\ne of delicate bgive of yourirds  hguided them into the cave of y\\nourto tsofthe cofave of iwould:  ur forth. howled aentered yourn\\ntemplet ya hand upon the stoned  ouryourbirds would pourthere ar\\ne scriptures onlaid a hand upon  he stone of your cave.lymost de\\nliyourcate birds,iyour guided t  mwould pour intoof my mif yours\\nbimost delicate birds,i guidede  em into the cread these in ther\\n                                                                \\nthem intas if youro the cave of  our entered your templethe cavi\\nsentered youre ofin yourall ofk  bmost delicate birds,i guided t\\nhem intio of myself struck toge  here are scripturesherthe cavel\\naid a of yourin the soft give o  wled at your cave asf your fleb\\nirds wouldsh.read thethese inup  nthe stone of yoursoftread bias\\nvif your birds would pourrdsthe  uin the your birare scthese in \\ntheriptures only our fingers'ds  ouldswould pour forthoft givine\\na hand upon the stone of your o  uldfyour youriflaid a hand upon\\nythe stone your yourbirds ofwou  would stais a memory of starlig\\n                                                                \\ners'erwould pourighmemoryt.pour  areawould pourat your forthd th\\nesesofin twould pour forthhe so  lgivet in the sobirdsft give of\\niyourd these wouldinpour forthi  t your cave as ifyour ofbat you\\nrof my most delbirds wouldicate  irds,i guided them into the cav\\ne of yhowled at yourmyself stru  dtogether fis a memoryorour fle\\nsh. cbirds wouldave as ifirhowo  d pourconfusion. forthwled atds\\npour fyourorthof mcaveyself str  k pieces of myself struck toget\\nher fortogether foras if your b  ds would pourdesceis ant to uni\\nfoi laidrmity.if memoscriptif y  r birds would pourures only our\\n                                                                \\n         asmy mosthere are scriptures only our fingers' tips can\\n readanddi read these in the soft give of your flesh.i laid a ha\\nnd upon the stone of your cave.i howled at your cave as ifbirds \\nwould pour forthin confusion.as if your birds would pour forth.i\\n enteredtyour temple withpieces of myself struck together for il\\nlumination.all of my most delicate birds,i guided them into the \\ncave ofdyour flesh.sometimes one would escape.i would imitate th\\ne sound:have you seen this bird?it is a memory of starlight.it i\\ns the wave's slow descent to uniformity.but you had not seen it.\\n\"\n",
    "\n",
    "# render as image\n",
    "surface = draw(scattered_poem, TITLE, config)\n",
    "surface.write_to_png(\"out/zzz_\" + TITLE + \"_\" + str(datetime.datetime.now()) + \".png\")"
   ]
  },
  {
   "cell_type": "code",
   "execution_count": null,
   "metadata": {
    "collapsed": true
   },
   "outputs": [],
   "source": []
  }
 ],
 "metadata": {
  "anaconda-cloud": {},
  "kernelspec": {
   "display_name": "Python [default]",
   "language": "python",
   "name": "python3"
  },
  "language_info": {
   "codemirror_mode": {
    "name": "ipython",
    "version": 3
   },
   "file_extension": ".py",
   "mimetype": "text/x-python",
   "name": "python",
   "nbconvert_exporter": "python",
   "pygments_lexer": "ipython3",
   "version": "3.5.2"
  }
 },
 "nbformat": 4,
 "nbformat_minor": 1
}
