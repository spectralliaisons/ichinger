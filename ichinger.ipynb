{
 "cells": [
  {
   "cell_type": "markdown",
   "metadata": {},
   "source": [
    "<h1>ichinger</h1>"
   ]
  },
  {
   "cell_type": "code",
   "execution_count": 1,
   "metadata": {
    "collapsed": false
   },
   "outputs": [],
   "source": [
    "from iching import *\n",
    "import datetime\n",
    "\n",
    "SIZE = (1250, 1250)\n",
    "FONT_SIZE = 24\n",
    "FONT = \"Anonymice Powerline\"#ImageFont.truetype(\"Anonymice Powerline Bold.ttf\", FONT_SIZE)\n",
    "FONT_COLOR = \"#000000\"\n",
    "HEXAGRAM_VERT_GAP = 2\n",
    "HEXAGRAM_LINE_BREAK = 7\n",
    "NUM_ROWS = 6 * HEXAGRAM_LINE_BREAK\n",
    "NUM_COLS = 64\n",
    "NUM_CHARS = NUM_ROWS * NUM_COLS\n",
    "NUM_UNJARBLE_REPS = 800"
   ]
  },
  {
   "cell_type": "code",
   "execution_count": 3,
   "metadata": {
    "collapsed": false
   },
   "outputs": [
    {
     "name": "stdout",
     "output_type": "stream",
     "text": [
      "                                                                \n",
      "pflvnhd yob birds,ofnfvgkh.uasm  lo,them into tthemis a memory i\n",
      "nto thehwould pouris a myouemyb  st delicatemory ofe cavwould wo\n",
      "uld pourpois alla memoryur fort  vof yourrm wis the wave's slowm\n",
      "nd nbof my mwould pourost delis  uck together for illuminationca\n",
      "te birds,.dfngfhwupnnsycocavenf  ionthem into the cavwould pourl\n",
      "forthei guided them into theonh  k.struckis the wave's slow desc\n",
      "                                                                \n",
      "not seenm  wapwvn,'iinto thefrw  together foral'.chf'egrrthguide\n",
      "d this a memory ofem into the e  ered your temple withpiecat you\n",
      "r cave as ifedescent toscave of  oureyit is the wavthem into the\n",
      "scavguided them into the cave c  fusionof youree'sgyocwcnv,mmemo\n",
      "ry ofcsvmebip'd,pgsooa,,cvnlpft  cvnarhdidapooyhaguided them int\n",
      "o the caved not seenof my mostk  licate birds,not itour temple w\n",
      "                                                                \n",
      "pourmwointo twould pourhe cavek  uld pouryself stemple withbirds\n",
      ".wouldpieces ofat your cave ash  tthe wave's slthem into the cav\n",
      "e of your fleshow desceninto th  cavetruckkhiemvn.of your''ckcmc\n",
      "nsoegshkstemple withpieces is a  hiyvyis aou had not seebirds wo\n",
      "uldnv,ypbpbdpf'h'dn,btryoybirds  kwpourould pourdm'gyou hadohbm.\n",
      "nvphhotlb dtmy most delicate'bf  ovall ofdkd shtybhthe i guidedc\n",
      "                                                                \n",
      "ces of myself struckentered tog  here of yourybd, uslow descentt\n",
      "to uconfusionnofistruckall of m  together for illuminationformit\n",
      "yitis howled at your cavea memo  wofuvvlghrluule ydkkbsnthem int\n",
      "oe.kaommwould pour,uis the wave  uslow descent to uniformity.cy.\n",
      "ti,dyour temple withpieceentere  your tempit is a memoryof mysel\n",
      "most delicatef struck towouldge  er for ofle withpieces of mther\n",
      "                                                                \n",
      "y' u'uovmslutginof my moconfusi  st delicate birds,di.nv'a memor\n",
      "y ofwifumdescentmfb',sm'erhucr,  buithe caveit ishiconfinto thec\n",
      "cave of your fleshusibirds woul  pouroniarkvwuanot seen bemwai h\n",
      "owledenconfusiontered youinto t  .caver templebirds withpieces o\n",
      "f myself struck together at myo  st delicate birds,your a memoth\n",
      "e wave's slow descent tslow des  nt to uniformityorycave ashe lu\n",
      "                                                                \n",
      "bfanbpmyself struck togethervvdtbeinsall of my most delicatecbyw\n",
      "poeocyehwfuhilkhbvpcuis a guided them into the cavememory ofguid\n",
      "guided them into the cave of youred themaa birds wois ofthe wave\n",
      "'s slow descent tould pouwould pour forthyour temple withpiecesr\n",
      "yur,ymphr,.chbb.gssndthere are scriptures only our fingers' tips\n",
      "wcan read and i read them in the soft give of your fleshc,.ikpip\n"
     ]
    }
   ],
   "source": [
    "TITLE = \"cavebirds\"\n",
    "\n",
    "#POEM = \"there are scriptures\\nonly our fingers' tips can read\\nand i read them in\\nthe soft give\\nof your flesh\\ni howled at your cave as if birds would pour forth, in confusion. as if your birds would pour forth. i don't even know what i howled now. but in your flesh i heard an echo. i entered your temple with pieces of myself struck together for illumination all of my most delicate birds, i guided them into the cave of your flesh. sometimes one would escape. i would imitate the sound. have you seen this bird? it is a memory of starlight. it is the wave's slow descent to uniformity. but you had not seen it.\"\n",
    "\n",
    "L3 = \"i howled at your cave as if\\n\"\n",
    "L4 = \"birds would pour forth\\n\"\n",
    "L5 = \"in confusion\\n\"\n",
    "L6 = \"i entered your temple with\"\n",
    "L7 = \"pieces of myself struck together for illumination\\n\"\n",
    "L8 = \"all of my most delicate birds,\\ni guided them into the cave of your flesh\\n\"\n",
    "# L9 = \"sometimes one would escape\\n\"\n",
    "# L10 = \"i would imitate the sound\\n\"\n",
    "# L11 = \"have you seen this bird?\\n\"\n",
    "L12 = \"it is a memory of starlight.\\n\"\n",
    "L13 = \"it is the wave's slow descent to uniformity\\n\"\n",
    "L14 = \"but you had not seen it\"\n",
    "\n",
    "POEM = L3+L4+L5+L6+L7+L8+L12+L13+L14\n",
    "\n",
    "APPEND = \"there are scriptures only our fingers' tips can read and i read them in the soft give of your flesh\"\n",
    "\n",
    "HEXAGRAM = [False, False, False, False, False, True] # 24 : return of light\n",
    "\n",
    "# get enough random characters that we need, ensuring all are in fact present\n",
    "scattered_poem = get_rand_chars(POEM, NUM_CHARS)\n",
    "\n",
    "# format lines\n",
    "scattered_poem = insert_newlines(scattered_poem, NUM_COLS)\n",
    "\n",
    "# reintroduce unjarbled portions\n",
    "scattered_poem = unjarble(scattered_poem, POEM, NUM_UNJARBLE_REPS) + APPEND\n",
    "\n",
    "# form into final shape\n",
    "scattered_poem = reshape(scattered_poem, NUM_ROWS, NUM_COLS, HEXAGRAM_VERT_GAP, HEXAGRAM_LINE_BREAK, HEXAGRAM)\n",
    "\n",
    "# append text\n",
    "# scattered_poem = append_txt(scattered_poem, APPEND)\n",
    "\n",
    "# this was a good output\n",
    "# scattered_poem = \"                                                                \\nhav ngptdrynhkv h,.s 'u.ridmcir  phoropcpwy.tcltswtrethem into t\\nhe birdscave of yourvwgfdyiinto  eflveypndubrypbis a memoryeit i\\ns is athe wave's slowcuulm smbd  hulccmgsbkakconfusiongwould pou\\nr.m,rbvbdy iiryvf 'ndwould pour  omost delicatnot seenerthy unea\\nh'nsnov'vlok,gmn'tw,f f.vt,fspw  .,hpourwyf,illbeiffy'csfog.fifl\\neshngtewinirncdhgvb'y.foeyou st  ck together forhad not seenoo.y\\n                                                                \\nyis the wave's slow descent to.  at your cavei damlall of my wit\\nhpieces of myself struck togeth  'formslow deshowled at your cav\\ne as ifcentof my mostost delica  pkiyklemkmbw.atnvehueyhwklwgtog\\ndnfthem into the cave of yourik  tered your temple winto the cav\\ne of yourithofpieces ofof mysel  struck together forfidsyicvimt,\\ngytrc,sgbt. ndgmkatieri'sv', n,  r.kakipcbm'wnphl,ugbnillentered\\n                                                                \\npseencba,kbhhad not seenekcmthe  ave of yourggrvwv.wtn''swwffbad\\nlo. mcriksdhgp' mnlkpmwe.b.woul  ociw,ginpb''anot seenof my most\\nkdyou had notelicate birds,mnwo  kbfplv'ciynug aora,pdhe,,fukfkg\\niu,hf,aathhvksu,ffat your caver  .heipaukiuyyfsbmnlppama fvyohc.\\n'nk.ehdmhwokttkgodu.,.dd.mvgvfv  rp myself struck together for i\\nllumination,n,p'wnnot seenddc't  ,fp,uib'muv.nuiuuwpwob,wwouldei\\n                                                                \\nled at your cave asi.chkronfta.  lmost delicate birds,ibkmy most\\nadelicate birds,osnaom.voggt'am  evmvttifralyvygccsyou delicate \\nyour temple withpieces of mysel  ould struck together forbirds,h\\nad not seen ityyccndtis a memor  of starliwave'sght.wrnvmkgyocng\\nyso.vmoahlntgribtfy prraitek..r  nma.ode'itguided them into theh\\ncavbirds would poure of' yw',fh  tayi.y vyism.leb'dsolbwf.iy'dkw\\n                                                                \\nwave's slows ois the wave's slo  omyself struck togetherici'yend\\na f.fcmutall of my mostscave of  ourvrl.gllpudkfm,r revwtvgkkafc\\nngwgpcyt,h,awmkmenmyselfukt.usk  nteri howleded your temple with\\npiecesentered your temple withp  ces of myself struck ofhowled a\\nt myselfwhgtcmostybycoi guidedi  em into the cave of yournfusion\\nnm'ln nfna,au.niavhvycvc.c  dls  .m,gl'mmmy motemple withpiecesm\\n                                                                \\nentered youri guided them into temple withpieces of myself struc\\nk tomy mostgetherte birds,uurv.snaoib,pmsyc'r'uflkoipsbeovn nlr'\\nnyyolil,w pavtwrdyds,npbl'entered your temple withpieces of myse\\nlf struck together for,lgrnh,klucch'''k.in.'es p,pecdwuv .ovfthf\\nlugvodupmaa'c.pamyteethere are scriptures only our fingers' tips\\nrcan read and i read them in the soft give of your fleshtbhkt'ab\"\n",
    "\n",
    "# render as image\n",
    "surface = draw_cairo_txt(scattered_poem, SIZE, TITLE, FONT, FONT_COLOR, FONT_SIZE)\n",
    "surface.write_to_png(\"out/\" + TITLE + \"_\" + str(datetime.datetime.now()) + \".png\")"
   ]
  },
  {
   "cell_type": "code",
   "execution_count": null,
   "metadata": {
    "collapsed": false
   },
   "outputs": [],
   "source": [
    "# this was a good output\n",
    "scattered_poem = \"                                                                \\nhav ngptdrynhkv h,.s 'u.ridmcir  phoropcpwy.tcltswtrethem into t\\nhe birdscave of yourvwgfdyiinto  eflveypndubrypbis a memoryeit i\\ns is athe wave's slowcuulm smbd  hulccmgsbkakconfusiongwould pou\\nr.m,rbvbdy iiryvf 'ndwould pour  omost delicatnot seenerthy unea\\nh'nsnov'vlok,gmn'tw,f f.vt,fspw  .,hpourwyf,illbeiffy'csfog.fifl\\neshngtewinirncdhgvb'y.foeyou st  ck together forhad not seenoo.y\\n                                                                \\nyis the wave's slow descent to.  at your cavei damlall of my wit\\nhpieces of myself struck togeth  'formslow deshowled at your cav\\ne as ifcentof my mostost delica  pkiyklemkmbw.atnvehueyhwklwgtog\\ndnfthem into the cave of yourik  tered your temple winto the cav\\ne of yourithofpieces ofof mysel  struck together forfidsyicvimt,\\ngytrc,sgbt. ndgmkatieri'sv', n,  r.kakipcbm'wnphl,ugbnillentered\\n                                                                \\npseencba,kbhhad not seenekcmthe  ave of yourggrvwv.wtn''swwffbad\\nlo. mcriksdhgp' mnlkpmwe.b.woul  ociw,ginpb''anot seenof my most\\nkdyou had notelicate birds,mnwo  kbfplv'ciynug aora,pdhe,,fukfkg\\niu,hf,aathhvksu,ffat your caver  .heipaukiuyyfsbmnlppama fvyohc.\\n'nk.ehdmhwokttkgodu.,.dd.mvgvfv  rp myself struck together for i\\nllumination,n,p'wnnot seenddc't  ,fp,uib'muv.nuiuuwpwob,wwouldei\\n                                                                \\nled at your cave asi.chkronfta.  lmost delicate birds,ibkmy most\\nadelicate birds,osnaom.voggt'am  evmvttifralyvygccsyou delicate \\nyour temple withpieces of mysel  ould struck together forbirds,h\\nad not seen ityyccndtis a memor  of starliwave'sght.wrnvmkgyocng\\nyso.vmoahlntgribtfy prraitek..r  nma.ode'itguided them into theh\\ncavbirds would poure of' yw',fh  tayi.y vyism.leb'dsolbwf.iy'dkw\\n                                                                \\nwave's slows ois the wave's slo  omyself struck togetherici'yend\\na f.fcmutall of my mostscave of  ourvrl.gllpudkfm,r revwtvgkkafc\\nngwgpcyt,h,awmkmenmyselfukt.usk  nteri howleded your temple with\\npiecesentered your temple withp  ces of myself struck ofhowled a\\nt myselfwhgtcmostybycoi guidedi  em into the cave of yournfusion\\nnm'ln nfna,au.niavhvycvc.c  dls  .m,gl'mmmy motemple withpiecesm\\n                                                                \\nentered youri guided them into temple withpieces of myself struc\\nk tomy mostgetherte birds,uurv.snaoib,pmsyc'r'uflkoipsbeovn nlr'\\nnyyolil,w pavtwrdyds,npbl'entered your temple withpieces of myse\\nlf struck together for,lgrnh,klucch'''k.in.'es p,pecdwuv .ovfthf\\nlugvodupmaa'c.pamyteethere are scriptures only our fingers' tips\\nrcan read and i read them in the soft give of your fleshtbhkt'ab\"\n",
    "\n",
    "TITLE = \"cavebirds\"\n",
    "\n",
    "# render as image\n",
    "surface = draw_cairo_txt(scattered_poem, SIZE, TITLE, FONT, FONT_COLOR, FONT_SIZE)\n",
    "surface.write_to_png(\"out/\" + TITLE + \"_\" + str(datetime.datetime.now()) + \".png\")"
   ]
  },
  {
   "cell_type": "code",
   "execution_count": null,
   "metadata": {
    "collapsed": false
   },
   "outputs": [],
   "source": [
    "get_words(POEM)"
   ]
  },
  {
   "cell_type": "code",
   "execution_count": null,
   "metadata": {
    "collapsed": true
   },
   "outputs": [],
   "source": []
  }
 ],
 "metadata": {
  "anaconda-cloud": {},
  "kernelspec": {
   "display_name": "Python [default]",
   "language": "python",
   "name": "python3"
  },
  "language_info": {
   "codemirror_mode": {
    "name": "ipython",
    "version": 3
   },
   "file_extension": ".py",
   "mimetype": "text/x-python",
   "name": "python",
   "nbconvert_exporter": "python",
   "pygments_lexer": "ipython3",
   "version": "3.5.2"
  }
 },
 "nbformat": 4,
 "nbformat_minor": 1
}
